{
 "cells": [
  {
   "cell_type": "code",
   "execution_count": 1,
   "metadata": {},
   "outputs": [
    {
     "name": "stderr",
     "output_type": "stream",
     "text": [
      "<>:17: SyntaxWarning: \"is\" with a literal. Did you mean \"==\"?\n",
      "<>:17: SyntaxWarning: \"is\" with a literal. Did you mean \"==\"?\n",
      "<ipython-input-1-5805a6373627>:17: SyntaxWarning: \"is\" with a literal. Did you mean \"==\"?\n",
      "  if faces is ():\n"
     ]
    },
    {
     "name": "stdout",
     "output_type": "stream",
     "text": [
      "Collecting Samples Complete\n"
     ]
    }
   ],
   "source": [
    "# Create Training Data 🔯\n",
    "\n",
    "import cv2\n",
    "import numpy as np\n",
    "\n",
    "# Load harcascading face classifier\n",
    "\n",
    "face_classifier = cv2.CascadeClassifier('haarcascade_frontalface_default.xml')\n",
    "\n",
    "# Load function\n",
    "def face_extractor(img):\n",
    "    # function detect the faces and rreturn the cropped faces\n",
    "    # if no one faces detected , it returns input images\n",
    "    gray = cv2.cvtColor(img,cv2.COLOR_BGR2GRAY)\n",
    "    faces = face_classifier.detectMultiScale(gray, 1.3, 5)\n",
    "    \n",
    "    if faces is ():\n",
    "        return None\n",
    "    \n",
    "    #crop all faces founded\n",
    "    for(x,y,w,h) in faces:\n",
    "        cropped_face = img[y:y+h, x:x+w]\n",
    "        \n",
    "    return cropped_face\n",
    "# initialize webcam\n",
    "cap = cv2.VideoCapture(0)\n",
    "count = 0\n",
    "\n",
    "# collect 100 sample of your face from webcam input\n",
    "while True:\n",
    "    \n",
    "    ret , frame = cap.read()\n",
    "    if face_extractor(frame) is not None:\n",
    "        count += 1\n",
    "        face = cv2.resize(face_extractor(frame), (200,200))\n",
    "        face = cv2.cvtColor(face, cv2.COLOR_BGR2GRAY)\n",
    "        \n",
    "        #Save the file in a specified directory with unique name\n",
    "        file_name_path = './faces/user/' + str(count) + '.jpg'\n",
    "        cv2.imwrite(file_name_path, face)\n",
    "        \n",
    "        # put count on images and display live count\n",
    "        cv2.putText(face, str(count), (50,50), cv2.FONT_HERSHEY_COMPLEX, 1, (255,0,255), 2 )\n",
    "        cv2.imshow('Face Cropper', face)\n",
    "        \n",
    "    else:\n",
    "        print('Face not found')\n",
    "        pass\n",
    "    \n",
    "    if cv2.waitKey(1) == 13 or count == 100:  # 13 is the Enter key\n",
    "        break\n",
    "        \n",
    "cap.release()\n",
    "cv2.destroyAllWindows()\n",
    "print('Collecting Samples Complete')"
   ]
  },
  {
   "cell_type": "code",
   "execution_count": null,
   "metadata": {},
   "outputs": [],
   "source": []
  },
  {
   "cell_type": "code",
   "execution_count": null,
   "metadata": {},
   "outputs": [],
   "source": []
  },
  {
   "cell_type": "code",
   "execution_count": 2,
   "metadata": {},
   "outputs": [
    {
     "name": "stdout",
     "output_type": "stream",
     "text": [
      "Model trained Successfully\n"
     ]
    }
   ],
   "source": [
    "# Train Model 🔯\n",
    "\n",
    "import cv2\n",
    "import numpy as np\n",
    "from os import listdir\n",
    "from os.path import isfile , join\n",
    "\n",
    "# Get the Traaining data we previously mode\n",
    "data_path = './faces/user/'\n",
    "onlyfiles = [f for f in listdir(data_path) if isfile(join(data_path, f))]\n",
    "\n",
    "# create arrays for training data and labels\n",
    "Training_Data, Labels = [], []\n",
    "\n",
    "# Open training images in our datapath\n",
    "# create a numpy array for training data\n",
    "for i, files in enumerate(onlyfiles):\n",
    "    image_path = data_path + onlyfiles[i]\n",
    "    images = cv2.imread(image_path, cv2.IMREAD_GRAYSCALE)\n",
    "    Training_Data.append(np.asarray(images, dtype=np.uint8) )\n",
    "    Labels.append(i)\n",
    "    \n",
    "    \n",
    "# Create a numpy array for both training data and labels\n",
    "Labels = np.asarray(Labels, dtype=np.int32)\n",
    "\n",
    "# Initializze face recognizer \n",
    "# model = cv2.face.createLBPHFaceRecognizer()\n",
    "# for OpenCV 3.0 use cv2.face.createLBPHFaceRecognizer\n",
    "# pip install opencv-contrib-python\n",
    "# model = cv2.createLBPHFaceRecognizer()\n",
    "\n",
    "ashu_model = cv2.face.LBPHFaceRecognizer_create()\n",
    "# let's train our model\n",
    "ashu_model.train(np.asarray(Training_Data), np.asarray(Labels))\n",
    "print('Model trained Successfully')"
   ]
  },
  {
   "cell_type": "code",
   "execution_count": null,
   "metadata": {},
   "outputs": [],
   "source": []
  },
  {
   "cell_type": "code",
   "execution_count": null,
   "metadata": {},
   "outputs": [],
   "source": [
    "# sending mail & sending Whatsapp message "
   ]
  },
  {
   "cell_type": "code",
   "execution_count": 3,
   "metadata": {},
   "outputs": [
    {
     "name": "stderr",
     "output_type": "stream",
     "text": [
      "<>:18: SyntaxWarning: \"is\" with a literal. Did you mean \"==\"?\n",
      "<>:18: SyntaxWarning: \"is\" with a literal. Did you mean \"==\"?\n",
      "<ipython-input-3-1d960fdef6cf>:18: SyntaxWarning: \"is\" with a literal. Did you mean \"==\"?\n",
      "  if faces is ():\n"
     ]
    },
    {
     "name": "stdout",
     "output_type": "stream",
     "text": [
      "sending a message through whatsapp\n",
      "In 40 seconds web.whatsapp.com will open and after 15 seconds message will be delivered\n",
      "Message Sent\n",
      "Email sent Successfully!\n"
     ]
    }
   ],
   "source": [
    "# Run Our Facial Recognition 🔯\n",
    "\n",
    "import cv2\n",
    "import numpy as np\n",
    "import os\n",
    "import pywhatkit\n",
    "import datetime\n",
    "\n",
    "\n",
    "face_classifier = cv2.CascadeClassifier('haarcascade_frontalface_default.xml')\n",
    "\n",
    "    \n",
    "def face_detector(img, size= 0.5):\n",
    "    \n",
    "    #convert image into grayscle\n",
    "    gray = cv2.cvtColor(img, cv2.COLOR_BGR2GRAY)\n",
    "    faces = face_classifier.detectMultiScale(gray, 1.3, 5)\n",
    "    if faces is ():\n",
    "        return img, []\n",
    "    \n",
    "    for(x,y,w,h) in faces:\n",
    "        cv2.rectangle(img, (x,y), (x+w,y+h), (0,255,255), 2)\n",
    "        roi = img[y:y+h,x:x+w]\n",
    "        roi = cv2.resize(roi, (200,200))\n",
    "    return img, roi\n",
    "\n",
    "# Open webcam\n",
    "cap  = cv2.VideoCapture(0)\n",
    "\n",
    "while True:\n",
    "    \n",
    "    ret, frame = cap.read()\n",
    "    \n",
    "    image, face = face_detector(frame)\n",
    "    \n",
    "    try:\n",
    "        face = cv2.cvtColor(face, cv2.COLOR_BGR2GRAY)\n",
    "        \n",
    "        # pass face to prediction model\n",
    "        # *results* comparises of a Tuple containing the label and the confidence value\n",
    "        resluts = ashu_model.predict(face)\n",
    "        \n",
    "        if resluts[1] < 500:\n",
    "            confidence = int(100 * (1- resluts[1]/400) )\n",
    "            display_string = str(confidence) + '%confident it is user'\n",
    "            \n",
    "        cv2.putText( image, display_string, (100,120), cv2.FONT_HERSHEY_COMPLEX, 1, (0,255,0), 2)\n",
    "        \n",
    "        if confidence > 90:\n",
    "            cv2.putText(image, 'Hey Ashu', (250,450), cv2.FONT_HERSHEY_COMPLEX, 1, (255,0,255), 2)\n",
    "            cv2.imshow('Face Recognition', image )\n",
    "            \n",
    "            \n",
    "            print('sending a message through whatsapp')\n",
    "            time = datetime.datetime.now()\n",
    "            pywhatkit.sendwhatmsg('+9178xxxxxxxx', 'Hi Ashutosh Its Working WOW', time.hour,(time.minute+1),15)\n",
    "            print('Message Sent')\n",
    "            pywhatkit.send_mail(\"ashutoshkaushik2580@gmail.com\",\n",
    "                               \"password\",\n",
    "                                \"Face Recoginition\",\n",
    "                                \"!!! SECURITY ALERT !!!. Someone trying to access the system please check .....\",\n",
    "                                #\"[\"plz Alert!!!!!\", email.mime.image.MIMEImage('done1.jpg')],\n",
    "                                \"ashutoshjecrchai@gmail.com\")\n",
    "            break\n",
    "            cv2.destroyAllWindows()\n",
    "            #os.system('chrome https://www.linkedin.com/in/ashutoshkaushik24/')\n",
    "            #os.system('')\n",
    "            #break\n",
    "\n",
    "            \n",
    "        else:\n",
    "            cv2.putText(image, 'Someone is Trying', (250,450), cv2.FONT_HERSHEY_COMPLEX, 1, (0,0,255), 2)\n",
    "            cv2.imshow('Face Recognition', image )\n",
    "            \n",
    "            \n",
    "    except:\n",
    "        cv2.putText(image, 'Face not found', (220,120), cv2.FONT_HERSHEY_COMPLEX, 1, (0,0,255), 2)\n",
    "        cv2.putText(image, 'Looking for face', (250,450), cv2.FONT_HERSHEY_COMPLEX, 1, (0,0,255), 2)\n",
    "        cv2.imshow('Face Recognition', image )\n",
    "        pass\n",
    "    \n",
    "    if cv2.waitKey(1) == 13: # 13 is the Enter Key\n",
    "        break\n",
    "        \n",
    "cap.release()\n",
    "cv2.destroyAllWindows()"
   ]
  },
  {
   "cell_type": "code",
   "execution_count": null,
   "metadata": {},
   "outputs": [],
   "source": []
  }
 ],
 "metadata": {
  "kernelspec": {
   "display_name": "Python 3",
   "language": "python",
   "name": "python3"
  },
  "language_info": {
   "codemirror_mode": {
    "name": "ipython",
    "version": 3
   },
   "file_extension": ".py",
   "mimetype": "text/x-python",
   "name": "python",
   "nbconvert_exporter": "python",
   "pygments_lexer": "ipython3",
   "version": "3.8.3"
  }
 },
 "nbformat": 4,
 "nbformat_minor": 4
}
